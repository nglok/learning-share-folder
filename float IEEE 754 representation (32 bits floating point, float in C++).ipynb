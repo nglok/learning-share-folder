{
 "cells": [
  {
   "cell_type": "code",
   "execution_count": 87,
   "id": "cc96a1f2",
   "metadata": {},
   "outputs": [
    {
     "name": "stdout",
     "output_type": "stream",
     "text": [
      "f = 0.1\n",
      "\n",
      "What happens if we use single precision?\n",
      "\n",
      "binary representation (use struct):\t\t 00111101110011001100110011001101\n",
      "meaning in decimal system:\t\t\t +1.600000023841858 * 2**-4 = +0.10000000149011612\n",
      "difference (float - double):\t\t\t 1.4901161138336505e-09\n",
      "\n",
      "\n",
      "Repeat with our own function :)\n",
      "\n",
      "binary representation (use our function):\t 00111101110011001100110011001101\n",
      "meaning in decimal system: \t\t\t +1.600000023841858 * 2**-4 = +0.10000000149011612\n",
      "difference (float - double):\t\t\t 1.4901161138336505e-09\n"
     ]
    }
   ],
   "source": [
    "f = 0.1\n",
    "\n",
    "import struct\n",
    "#32-bits  single precision representation\n",
    "#https://stackoverflow.com/questions/16444726/binary-representation-of-float-in-python-bits-not-hex\n",
    "def binary(num):\n",
    "    #print([(c,'{:0>8b}'.format(c)) for c in struct.pack('!f', num)])\n",
    "    return ''.join('{:0>8b}'.format(c) for c in struct.pack('!f', num))\n",
    "\n",
    "\n",
    "#our own methods\n",
    "def round_up(bins):\n",
    "    for i in range(len(bins) - 1, -1, -1):\n",
    "        if bins[i] == \"0\":\n",
    "            bins = bins[:i] + \"1\" + bins[i+1:]\n",
    "            break\n",
    "        else:\n",
    "            bins = bins[:i] + \"0\" + bins[i+1:]\n",
    "    return bins\n",
    "\n",
    "def binf(num, end = 23):  #fractional part of the binary representation\n",
    "    num = abs(num)%1\n",
    "    num2 = num\n",
    "    s = \"\"\n",
    "    carry_to_exponent = False\n",
    "    \n",
    "    while len(s) < end:\n",
    "        num = num * 2\n",
    "        s = s + (\"1\" if num >= 1 else \"0\")\n",
    "        num = num%1\n",
    "    \n",
    "    if num > 0.5 or (num == 0.5 and s[-1] == \"1\"):\n",
    "        s = round_up(s)\n",
    "        \n",
    "        if s == \"0\" * end:\n",
    "            carry_to_exponent = True\n",
    "            \n",
    "    return carry_to_exponent, s\n",
    "\n",
    "def binsf(bins):  #convert binary representation for fraction to fraction\n",
    "    num = 0\n",
    "    i = 1\n",
    "    while len(bins) > 0:\n",
    "        i = i / 2\n",
    "        num = num + i * (bins[0] == \"1\")\n",
    "        bins = bins[1:]\n",
    "    return num\n",
    "\n",
    "import math\n",
    "def binary2(num):  #our own function\n",
    "    sign = \"0\" if num > 0 else \"0\" if num == 0 and str(num)[0] == \"0\" else \"1\"\n",
    "    num = abs(num)\n",
    "    \n",
    "    exponent = -127 if num == 0 else int(math.log(num, 2)//1)\n",
    "    s_exponent = \"{:0>8}\".format(bin(exponent + 127)[2:])\n",
    "    \n",
    "    mantissa = num / 2**exponent - 1\n",
    "    carry, s_mantissa = binf(mantissa)\n",
    "    if carry:\n",
    "        s_exponent = round_up(s_exponent)\n",
    "        \n",
    "    return sign + s_exponent + s_mantissa\n",
    "    \n",
    "def number(bins):  #from binary representation to number\n",
    "    sign = \"+\" if bins[0] == \"0\" else \"-\"\n",
    "    \n",
    "    exponent = int(bins[1:9],2) - 127\n",
    "    \n",
    "    mantissa = binsf(bins[9:])\n",
    "    \n",
    "    return ([sign, str((1 + mantissa)), \"2**\" + str(exponent), sign + str((1+mantissa) * (2**exponent)), (((bins[0]==\"0\")*2-1)*(1+mantissa)*(2**exponent))])\n",
    "    \n",
    "\n",
    "print(f\"f = {f}\\n\")\n",
    "print(\"What happens if we use single precision?\\n\")\n",
    "\n",
    "print(\"binary representation (use struct):\\t\\t\", binary(f))\n",
    "print(\"meaning in decimal system:\\t\\t\\t\", \"{}{} * {} = {}\".format(*number(binary(f))[:-1]))\n",
    "print(\"difference (float - double):\\t\\t\\t\", number(binary(f))[-1] - f)\n",
    "print()\n",
    "print()\n",
    "\n",
    "print(\"Repeat with our own function :)\\n\")\n",
    "print(\"binary representation (use our function):\\t\", binary2(f))\n",
    "print(\"meaning in decimal system: \\t\\t\\t\", \"{}{} * {} = {}\".format(*number(binary2(f))[:-1]))\n",
    "print(\"difference (float - double):\\t\\t\\t\", number(binary2(f))[-1] - f)"
   ]
  },
  {
   "cell_type": "code",
   "execution_count": 86,
   "id": "6d5225f0",
   "metadata": {},
   "outputs": [
    {
     "name": "stdout",
     "output_type": "stream",
     "text": [
      "5000004999.989999\n"
     ]
    }
   ],
   "source": [
    "f = 0\n",
    "for i in range(1000000):\n",
    "    f = f + i * 10**-2\n",
    "    if binary(f) != binary2(f):\n",
    "        print(f, binary(f), binary2(f))\n",
    "    if binary(-f) != binary2(-f):\n",
    "        print(-f, binary(-f), binary2(-f))\n",
    "print(f + i * 10**-2)"
   ]
  },
  {
   "cell_type": "code",
   "execution_count": 26,
   "id": "2e18caa6",
   "metadata": {
    "scrolled": true
   },
   "outputs": [
    {
     "name": "stdout",
     "output_type": "stream",
     "text": [
      "binary representation (use struct):\t\t 01001101111110101010000100010110\n",
      "meaning in decimal system:\t\t\t +1.9580409526824951 * 2**28 = +525607616.0\n",
      "difference (float - double):\t\t\t -16.0\n",
      "binary representation (use struct):\t\t 01001101111110101010000100010111\n",
      "meaning in decimal system:\t\t\t +1.9580410718917847 * 2**28 = +525607648.0\n",
      "difference (float - double):\t\t\t 16.0\n"
     ]
    }
   ],
   "source": [
    "f = 525607632.0\n",
    "def explain(bins, f=f):\n",
    "    print(\"binary representation (use struct):\\t\\t\", bins)\n",
    "    print(\"meaning in decimal system:\\t\\t\\t\", \"{}{} * {} = {}\".format(*number(bins)[:-1]))\n",
    "    print(\"difference (float - double):\\t\\t\\t\", number(bins)[-1] - f)\n",
    "    \n",
    "explain(\"01001101111110101010000100010110\")\n",
    "explain(\"01001101111110101010000100010111\")"
   ]
  },
  {
   "cell_type": "code",
   "execution_count": 81,
   "id": "4560ed0f",
   "metadata": {},
   "outputs": [
    {
     "name": "stdout",
     "output_type": "stream",
     "text": [
      "1\n"
     ]
    }
   ],
   "source": [
    "#if we do not want to use int(math.log(x,2))\n",
    "\n",
    "def log_f(num):\n",
    "    num = abs(num)\n",
    "    i = 0\n",
    "    if num > 1:\n",
    "        while num >= 1:\n",
    "            i = i + 1\n",
    "            num = num / 2\n",
    "    elif num <= 1:\n",
    "        while num <= 1:\n",
    "            i = i + 1\n",
    "            num = num * 2\n",
    "    return(i - 1)\n",
    "    \n",
    "print(log_f(2))"
   ]
  },
  {
   "cell_type": "code",
   "execution_count": 73,
   "id": "5d2f6d2d",
   "metadata": {},
   "outputs": [
    {
     "name": "stdout",
     "output_type": "stream",
     "text": [
      "-0.0 0.0\n"
     ]
    }
   ],
   "source": [
    "n = -0.000\n",
    "o = 0.0\n",
    "print(str(n), str(o))"
   ]
  },
  {
   "cell_type": "code",
   "execution_count": null,
   "id": "a0727d65",
   "metadata": {},
   "outputs": [],
   "source": []
  }
 ],
 "metadata": {
  "kernelspec": {
   "display_name": "Python 3 (ipykernel)",
   "language": "python",
   "name": "python3"
  },
  "language_info": {
   "codemirror_mode": {
    "name": "ipython",
    "version": 3
   },
   "file_extension": ".py",
   "mimetype": "text/x-python",
   "name": "python",
   "nbconvert_exporter": "python",
   "pygments_lexer": "ipython3",
   "version": "3.9.7"
  }
 },
 "nbformat": 4,
 "nbformat_minor": 5
}
