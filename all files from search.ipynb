{
 "cells": [
  {
   "cell_type": "code",
   "execution_count": 1,
   "id": "ab4f3c0a",
   "metadata": {},
   "outputs": [
    {
     "name": "stdout",
     "output_type": "stream",
     "text": [
      "C:\\Users\\lenovo\\python jupyter notebooks\\web scraping\\hkpl past papers\n"
     ]
    }
   ],
   "source": [
    "import os\n",
    "folder = os.getcwd()\n",
    "print(folder)"
   ]
  },
  {
   "cell_type": "code",
   "execution_count": 2,
   "id": "bd35fbdc",
   "metadata": {},
   "outputs": [],
   "source": [
    "import json\n",
    "search_url = \"https://sls.hkpl.gov.hk/api/drmapi/client-api/mmissearch/advanceQuery\"\n",
    "\n",
    "#payload_str is found in the browser\n",
    "#search once and it is in the payload of advancedQuery\n",
    "payload_str = '{\"asc\":false,\"criteriaList\":[],\"current\":1,\"dateList\":[],\"filterList\":[],\"mediaType\":null,\"groupFilterSearch\":[],\"keyword\":\"\",\"languageEnum\":\"TC\",\"otherList\":[],\"size\":100,\"sortType\":3,\"trackTotalHits\":true,\"customizationSearch\":[{\"fieldName\":\"title.series\",\"type\":1,\"value\":\"HKDSE Question Papers. Mathematics (compulsory part)\",\"labelEn\":\"title.series\",\"labelCn\":\"title.series\"},{\"fieldName\":\"title.series\",\"type\":2,\"value\":\"香港中學文憑考試試題. 數學 必修部分\",\"labelEn\":\"title.series\",\"labelCn\":\"title.series\"}],\"isEnableViewData\":false}'\n",
    "payload = json.loads(payload_str)\n",
    "\n",
    "import requests\n",
    "s = requests.session()\n",
    "r = s.post(search_url,json=payload)\n",
    "json = r.json()[\"data\"]\n",
    "\n",
    "#print(len(json[\"records\"]))"
   ]
  },
  {
   "cell_type": "code",
   "execution_count": 3,
   "id": "c54b54a3",
   "metadata": {},
   "outputs": [],
   "source": [
    "detail_url = \"https://sls.hkpl.gov.hk/api/drmapi/client-api/mmis/catalogueDetail/catalogueDetail\"\n",
    "\n",
    "ids = [record[\"id\"] for record in json[\"records\"]]\n",
    "\n",
    "download_list = []\n",
    "\n",
    "for id in ids:\n",
    "    headers = {\"catalogueId\":id}\n",
    "    r1 = s.get(detail_url,headers=headers)\n",
    "    data = r1.json()[\"data\"]\n",
    "    fileid = [{\"id\":item[\"id\"], \"filename\":data[\"titleStr\"].replace(\":\",\"-\")} for item in data[\"contentList\"][\"ortherContent\"] if \".pdf\" in item[\"fileName\"]]\n",
    "    download_list += fileid\n",
    "\n",
    "#print(download_list)"
   ]
  },
  {
   "cell_type": "code",
   "execution_count": 4,
   "id": "06f7ebe8",
   "metadata": {},
   "outputs": [
    {
     "name": "stdout",
     "output_type": "stream",
     "text": [
      "destination folder:\t C:\\Users\\lenovo\\python jupyter notebooks\\web scraping\\hkpl past papers\n",
      "\n",
      "downloading <香港中學文憑考試試題專輯. 數學 必修部分2021>\n",
      "downloaded <香港中學文憑考試試題專輯. 數學 必修部分2021>\n",
      "\n",
      "downloading <Hong Kong Diploma of Secondary Education Examination - question papers. Mathematics (compulsory part) 2021>\n",
      "downloaded <Hong Kong Diploma of Secondary Education Examination - question papers. Mathematics (compulsory part) 2021>\n",
      "\n",
      "downloading <Hong Kong Diploma of Secondary Education Examination - question papers. Mathematics (compulsory part) 2020>\n",
      "downloaded <Hong Kong Diploma of Secondary Education Examination - question papers. Mathematics (compulsory part) 2020>\n",
      "\n",
      "downloading <香港中學文憑考試試題專輯. 數學 必修部分2020>\n",
      "downloaded <香港中學文憑考試試題專輯. 數學 必修部分2020>\n",
      "\n",
      "downloading <香港中學文憑考試試題專輯. 數學 必修部分2013>\n",
      "downloaded <香港中學文憑考試試題專輯. 數學 必修部分2013>\n",
      "\n",
      "downloading <Hong Kong Diploma of Secondary Education Examination - question papers. Mathematics (compulsory part) 2013>\n",
      "downloaded <Hong Kong Diploma of Secondary Education Examination - question papers. Mathematics (compulsory part) 2013>\n",
      "\n",
      "downloading <香港中學文憑考試試題專輯. 數學 必修部分2012>\n",
      "downloaded <香港中學文憑考試試題專輯. 數學 必修部分2012>\n",
      "\n",
      "downloading <Hong Kong Diploma of Secondary Education Examination - question papers. Mathematics (compulsory part) 2012>\n",
      "downloaded <Hong Kong Diploma of Secondary Education Examination - question papers. Mathematics (compulsory part) 2012>\n",
      "\n",
      "downloading <香港中學文憑考試試題專輯. 數學 必修部分2018>\n",
      "downloaded <香港中學文憑考試試題專輯. 數學 必修部分2018>\n",
      "\n",
      "downloading <Hong Kong Diploma of Secondary Education Examination - question papers. Mathematics (compulsory part) 2016>\n",
      "downloaded <Hong Kong Diploma of Secondary Education Examination - question papers. Mathematics (compulsory part) 2016>\n",
      "\n",
      "downloading <香港中學文憑考試試題專輯. 數學 必修部分2015>\n",
      "downloaded <香港中學文憑考試試題專輯. 數學 必修部分2015>\n",
      "\n",
      "downloading <Hong Kong Diploma of Secondary Education Examination - question papers. Mathematics (compulsory part) 2014>\n",
      "downloaded <Hong Kong Diploma of Secondary Education Examination - question papers. Mathematics (compulsory part) 2014>\n",
      "\n",
      "downloading <Hong Kong Diploma of Secondary Education Examination - question papers. Mathematics (compulsory part) 2019>\n",
      "downloaded <Hong Kong Diploma of Secondary Education Examination - question papers. Mathematics (compulsory part) 2019>\n",
      "\n",
      "downloading <Hong Kong Diploma of Secondary Education Examination - question papers. Mathematics (compulsory part) 2017>\n",
      "downloaded <Hong Kong Diploma of Secondary Education Examination - question papers. Mathematics (compulsory part) 2017>\n",
      "\n",
      "downloading <香港中學文憑考試試題專輯. 數學 必修部分2016>\n",
      "downloaded <香港中學文憑考試試題專輯. 數學 必修部分2016>\n",
      "\n",
      "downloading <Hong Kong Diploma of Secondary Education Examination - question papers. Mathematics (compulsory part) 2015>\n",
      "downloaded <Hong Kong Diploma of Secondary Education Examination - question papers. Mathematics (compulsory part) 2015>\n",
      "\n",
      "downloading <香港中學文憑考試試題專輯. 數學 必修部分2019>\n",
      "downloaded <香港中學文憑考試試題專輯. 數學 必修部分2019>\n",
      "\n",
      "downloading <香港中學文憑考試試題專輯. 數學 必修部分2017>\n",
      "downloaded <香港中學文憑考試試題專輯. 數學 必修部分2017>\n",
      "\n",
      "downloading <香港中學文憑考試試題專輯. 數學 必修部分2014>\n",
      "downloaded <香港中學文憑考試試題專輯. 數學 必修部分2014>\n",
      "\n",
      "downloading <Hong Kong Diploma of Secondary Education Examination - question papers. Mathematics (compulsory part) 2018>\n",
      "downloaded <Hong Kong Diploma of Secondary Education Examination - question papers. Mathematics (compulsory part) 2018>\n",
      "\n",
      "done\n"
     ]
    }
   ],
   "source": [
    "download_url = \"https://media.hkpl.gov.hk/api/drmapi/client-api/common/pdfCommon/load?id=\"\n",
    "headers2 = {\"Accept\": \"*/*\",\"Accept-Encoding\": \"gzip, deflate, br, zstd\",\n",
    "          \"Accept-Language\": \"zh-TW,zh;q=0.9,en-US;q=0.8,en;q=0.7,zh-CN;q=0.6\",\n",
    "         \"Connection\": \"keep-alive\",\"Host\": \"media.hkpl.gov.hk\",\n",
    "         \"Origin\": \"https://sls.hkpl.gov.hk\", \"Referer\": \"https://sls.hkpl.gov.hk/\"\n",
    "        }\n",
    "\n",
    "\n",
    "print(\"destination folder:\\t\", folder)\n",
    "\n",
    "for file in download_list:\n",
    "    print(\"\\ndownloading <\"+file[\"filename\"]+\">\")\n",
    "    r2 = s.get(download_url+file[\"id\"],headers=headers2)\n",
    "\n",
    "    # we use the default file name, change file[1] to some other file name if needed\n",
    "    with open(folder+\"\\\\\"+file[\"filename\"]+\".pdf\",\"wb\") as filehandle:\n",
    "        filehandle.write(r2.content)\n",
    "    #print(folder+\"\\\\\"+file[\"filename\"]+\".pdf\",\"\\ndownloaded <\"+file[\"filename\"]+\">\")\n",
    "    print(\"downloaded <\"+file[\"filename\"]+\">\")\n",
    "print(\"\\ndone\")"
   ]
  },
  {
   "cell_type": "code",
   "execution_count": null,
   "id": "5e3f33db",
   "metadata": {},
   "outputs": [],
   "source": []
  }
 ],
 "metadata": {
  "kernelspec": {
   "display_name": "Python 3 (ipykernel)",
   "language": "python",
   "name": "python3"
  },
  "language_info": {
   "codemirror_mode": {
    "name": "ipython",
    "version": 3
   },
   "file_extension": ".py",
   "mimetype": "text/x-python",
   "name": "python",
   "nbconvert_exporter": "python",
   "pygments_lexer": "ipython3",
   "version": "3.9.7"
  }
 },
 "nbformat": 4,
 "nbformat_minor": 5
}
