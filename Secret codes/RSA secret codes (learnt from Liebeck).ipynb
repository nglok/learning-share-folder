{
 "cells": [
  {
   "cell_type": "markdown",
   "id": "871d551d",
   "metadata": {},
   "source": [
    "This workbook is on an implementation of RSA encryption and decryption.<br>\n",
    "I learnt the mathematics from <br>\n",
    "An introduction to pure mathematics by Martin Liebeck <br>\n",
    "(Chapter 10 to 15)"
   ]
  },
  {
   "cell_type": "code",
   "execution_count": 1,
   "id": "e57b9280",
   "metadata": {},
   "outputs": [],
   "source": [
    "# Euclidean algorithm\n",
    "# input int1, int2\n",
    "# output s, t, d where s*int1 + t*int2 = d and d is hcf(int1, int2)\n",
    "# chapter 10, theorem 10.1, proposition 10.3\n",
    "\n",
    "def euclid(int1, int2):\n",
    "    sign1 = 1 if int1 > 0 else 0 if int1 == 0 else -1\n",
    "    sign2 = 1 if int2 > 0 else 0 if int2 == 0 else -1\n",
    "    \n",
    "    if sign1 == 0 and sign2 == 0:\n",
    "        return [0, 0, 0]\n",
    "    elif sign1 == 0:\n",
    "        return [0, sign2, abs(int2)]\n",
    "    elif sign2 == 0:\n",
    "        return [sign1, 0, abs(int1)]\n",
    "    \n",
    "    rs_record = [[0, 1], [1, 0]]\n",
    "    d = None\n",
    "    modify_index = 1\n",
    "    dividend, divisor = abs(int1), abs(int2)\n",
    "    \n",
    "    while True:\n",
    "        q = dividend//divisor\n",
    "        d = dividend%divisor\n",
    "        rs_record[modify_index][0] -= q*rs_record[modify_index-1][0]\n",
    "        rs_record[modify_index][1] -= q*rs_record[modify_index-1][1]\n",
    "        modify_index = (modify_index+1)&1\n",
    "        if d == 0:\n",
    "            break\n",
    "        dividend, divisor = divisor, d\n",
    "    rs_record[modify_index][0] *= sign1\n",
    "    rs_record[modify_index][1] *= sign2\n",
    "    return [*rs_record[modify_index], divisor]"
   ]
  },
  {
   "cell_type": "code",
   "execution_count": 2,
   "id": "18dde7be",
   "metadata": {},
   "outputs": [],
   "source": [
    "# Successively squares for calculating n^a mod m\n",
    "# useful when n^a is very large\n",
    "# return r, 0 <= r < m, n^a = r mod m\n",
    "# chapter 13, example 13.3\n",
    "\n",
    "def high_pow_mod(n, a, m):\n",
    "    r = 1\n",
    "    n_work = n\n",
    "    \n",
    "    while a > 0:\n",
    "        n_work %= m\n",
    "        if n_work == 0:\n",
    "            return 0\n",
    "        \n",
    "        use_power = a&1\n",
    "        if use_power:\n",
    "            r *= n_work\n",
    "            r %= m\n",
    "        n_work **= 2\n",
    "        a >>= 1\n",
    "    return r"
   ]
  },
  {
   "cell_type": "code",
   "execution_count": 3,
   "id": "c1be3ac9",
   "metadata": {},
   "outputs": [],
   "source": [
    "# Miller's test for a, using a positive base b\n",
    "# A test for checking whether an integer is a prime number\n",
    "# A prime always pass the test, a non prime may or may not pass the test depending on the base\n",
    "# input: a, the possible prime and b, the base for the test \n",
    "# return True if a passes Miller's test\n",
    "# chapter 14, proposition 14.4, example 14.2 (last section of chapter 14)\n",
    "\n",
    "def millers_test(a, b):\n",
    "    assert(b % a > 0)\n",
    "    \n",
    "    if a == 1:\n",
    "        return False\n",
    "    \n",
    "    #first step Fermat's test\n",
    "    if high_pow_mod(b, a - 1, a) != 1:\n",
    "        return False\n",
    "    \n",
    "    \n",
    "    power = a-1\n",
    "    \n",
    "    while True:\n",
    "        if power%2 == 1:\n",
    "            return True\n",
    "        else:\n",
    "            power //= 2\n",
    "        \n",
    "        test = high_pow_mod(b, power, a)\n",
    "        if test + 1 == a:\n",
    "            return True\n",
    "        elif test != 1:\n",
    "            return False\n",
    "        else:\n",
    "            pass"
   ]
  },
  {
   "cell_type": "code",
   "execution_count": 4,
   "id": "417f1aba",
   "metadata": {},
   "outputs": [],
   "source": [
    "#RSA encoding and decoding\n",
    "\n",
    "#RSA encoding\n",
    "#chapter 15 - RSA Codes: Encoding\n",
    "\n",
    "#p and q are primes, they are private\n",
    "\n",
    "#for encoding, p and q are not given\n",
    "#only N = p*q and e are public\n",
    "#e is coprime to (p-1)(q-1)\n",
    "\n",
    "#The message is a number x < N, and the encoded message is x^e (mod N)\n",
    "#The input is a string of numbers\n",
    "#rsa_encode returns a list of numbers (they are the encoded messages)\n",
    "\n",
    "def rsa_encode(number_string, N, e):\n",
    "    import math\n",
    "    segment_length = int(math.log(N,10))\n",
    "    extra = -len(number_string)%segment_length\n",
    "    number_string += \"0\" * extra\n",
    "    \n",
    "    encoded_message = []\n",
    "\n",
    "    for i in range(0,len(number_string),segment_length):\n",
    "        #print(number_string[i:i+segment_length])\n",
    "        encoded_message.append(high_pow_mod(int(number_string[i:i+segment_length]), e, N))\n",
    "\n",
    "    return encoded_message\n",
    "\n",
    "#for decoding, p and q are given\n",
    "#The encoded message is s < N, and the decoded message is s^d (mod N)\n",
    "#d is a positive integer such that de = 1 (mod (p-1)(q-1))\n",
    "#d can be found with with p, q and Euclidean algorithm\n",
    "\n",
    "#The input is a list of numbers (the encoded messages)\n",
    "#rsa_decode returns a string of numbers\n",
    "\n",
    "def rsa_decode(encoded_message, N, d):\n",
    "    import math\n",
    "    segment_length = int(math.log(N,10))\n",
    "    \n",
    "    decoded_number_string = \"\".join((\"0\"*segment_length+str(high_pow_mod(encoded_number, d, N)))[-segment_length:] for encoded_number in encoded_message)\n",
    "\n",
    "    return decoded_number_string\n",
    "\n",
    "#number string text string conversion\n",
    "\n",
    "def text_to_num(message):\n",
    "    letter_number_extend = {chr(i):f\"{i-31:0>2d}\" for i in range(32,127)}\n",
    "    message_number = \"\".join(letter_number_extend[ch] for ch in message if ch in letter_number_extend)\n",
    "    return message_number\n",
    "\n",
    "def num_to_text(message_number):\n",
    "    letter_number_extend = {chr(i):f\"{i-31:0>2d}\" for i in range(32,127)}\n",
    "    number_letter_extend = {value:key for key, value in letter_number_extend.items()}    \n",
    "    message = \"\".join(number_letter_extend[number_substr] if number_substr in number_letter_extend else \"\" for number_substr in [message_number[i:i+2] for i in range(0,len(message_number),2)])\n",
    "    return message"
   ]
  },
  {
   "cell_type": "code",
   "execution_count": 10,
   "id": "c9a2b3b7",
   "metadata": {},
   "outputs": [],
   "source": [
    "#An example\n",
    "\n",
    "#Step 1 - find private key numbers p, q and the encoding power e\n",
    "\n",
    "\n",
    "# try to find two probable primes, p ~ 22435*10**50 and q ~ 56123*10**50  \n",
    "# use Miller's test 500 times, a list of 500 numbers in [2, 10000]\n",
    "\n",
    "import random\n",
    "\n",
    "test_bases = random.sample(range(2,10001),500)\n",
    "#print(test_bases)\n",
    "\n",
    "p = 22435*10**50+random.randrange(0,10**50,2)+1\n",
    "#print(p)\n",
    "while True:\n",
    "    if all(millers_test(p, base) for base in test_bases):\n",
    "        break\n",
    "    else:\n",
    "        p += 2\n",
    "        \n",
    "q = 56123*10**50+random.randrange(0,10**50,2)+1\n",
    "#print(q)\n",
    "while True:\n",
    "    if all(millers_test(q, base) for base in test_bases):\n",
    "        break\n",
    "    else:\n",
    "        q += 2\n",
    "\n",
    "#also find a new e ~ 10**10\n",
    "\n",
    "e = 10**10 + 1\n",
    "while True:\n",
    "    if all(millers_test(e, base) for base in test_bases):\n",
    "        break\n",
    "    else:\n",
    "        e += 2\n",
    "        \n",
    "assert(euclid(e,(p-1)*(q-1))[-1] == 1)"
   ]
  },
  {
   "cell_type": "code",
   "execution_count": 12,
   "id": "6e466769",
   "metadata": {},
   "outputs": [
    {
     "name": "stdout",
     "output_type": "stream",
     "text": [
      "Public keys: \n",
      "N=12591468912359059498248259764543445998332161399559087362671403917752296276639408292094486617507767246453913779  \n",
      "e=10000000019\n"
     ]
    }
   ],
   "source": [
    "# what are the public keys\n",
    "N = p*q\n",
    "print(\"Public keys:\", f\"\\nN={N}  \\ne={e}\")"
   ]
  },
  {
   "cell_type": "code",
   "execution_count": 16,
   "id": "983b0fe7",
   "metadata": {
    "scrolled": true
   },
   "outputs": [
    {
     "name": "stdout",
     "output_type": "stream",
     "text": [
      "len of message: 498\n",
      "len of converted number string: 996\n",
      "Encoded list of numbers:\n",
      "[499916591448234400062846951350689755835188438615495734304355931412300292444599079878190693649903438479424925, 8609272760683628256244918801697763510746899352168896437089518261060330957648076866762556397946301349794465491, 11242196450549641128026751079618734625739631459308270779120854864231898414304393227733587733374813440839401488, 11033990708448573398495881970693925651294424050031951298230832842053264288599545293721163407378784329271956947, 2839925520647377231110768232302507935863900272239252326244742657905291450220830165521509850458911301887927145, 3793722032761078260955795265963449683569947012926477384878731165313288258129966870849641748234817803669421512, 6536340799459862407669811955205869631881371184027955194072092352564392110757772326542298758963693492935839907, 10887266849364973057917301433905146941255463617532069293207357407323532094061316206602858757359328860014121761, 12550643622776768487573520634318061311673662996636046111279393105139994847593684376161089420747720110804220686, 9505293962378468251142534749201774514822066279026040029915126109712152241050708901091510787502201281527547932]\n"
     ]
    }
   ],
   "source": [
    "#Step 2 - encode our message\n",
    "\n",
    "message = 'The RSA (Rivest-Shamir-Adleman) cryptosystem is a public-key cryptosystem, one of the oldest widely used for secure data transmission. The initialism \"RSA\" comes from the surnames of Ron Rivest, Adi Shamir and Leonard Adleman, who publicly described the algorithm in 1977. An equivalent system was developed secretly in 1973 at Government Communications Headquarters (GCHQ), the British signals intelligence agency, by the English mathematician Clifford Cocks. That system was declassified in 1997.'\n",
    "\n",
    "message_number = text_to_num(message)\n",
    "encoded_message_number = rsa_encode(message_number, N, e)\n",
    "\n",
    "print(\"len of message:\",len(message))\n",
    "print(\"len of converted number string:\",len(message_number))\n",
    "\n",
    "print(\"Encoded list of numbers:\",encoded_message_number,sep=\"\\n\")"
   ]
  },
  {
   "cell_type": "code",
   "execution_count": 17,
   "id": "0a0818f9",
   "metadata": {},
   "outputs": [
    {
     "name": "stdout",
     "output_type": "stream",
     "text": [
      "Private keys: \n",
      "p=2243546566139104441511031058643492184834247335993299639\n",
      "q=5612305580101056331245793780438149228649543797383372261\n",
      "\n",
      "Decoding power: \n",
      "d=6411139574194825386376908898225910037059198716692169060110593169784551902754991269956667953493819145798126659\n",
      "\n",
      "Decoded message: The RSA (Rivest-Shamir-Adleman) cryptosystem is a public-key cryptosystem, one of the oldest widely used for secure data transmission. The initialism \"RSA\" comes from the surnames of Ron Rivest, Adi Shamir and Leonard Adleman, who publicly described the algorithm in 1977. An equivalent system was developed secretly in 1973 at Government Communications Headquarters (GCHQ), the British signals intelligence agency, by the English mathematician Clifford Cocks. That system was declassified in 1997.\n"
     ]
    }
   ],
   "source": [
    "#Step 3 - decode the encoded message\n",
    "\n",
    "#d is a positive integer such that de = 1 (mod (p-1)(q-1))\n",
    "\n",
    "d, t, s = euclid(e, (p-1)*(q-1))\n",
    "if d < 0:\n",
    "    d += (-d//((p-1)*(q-1))+1) * (p-1)*(q-1)\n",
    "    \n",
    "print(\"Private keys:\", f\"\\np={p}\\nq={q}\")\n",
    "print()\n",
    "print(\"Decoding power:\", f\"\\nd={d}\")\n",
    "print()\n",
    "\n",
    "decoded_message_number = rsa_decode(encoded_message_number, N, d)\n",
    "decoded_message = num_to_text(decoded_message_number)\n",
    "\n",
    "print(\"Decoded message:\", decoded_message)"
   ]
  },
  {
   "cell_type": "code",
   "execution_count": 15,
   "id": "8dcab0a4",
   "metadata": {},
   "outputs": [
    {
     "name": "stdout",
     "output_type": "stream",
     "text": [
      "Raw number string: \n",
      "537370015152340109517487708485145273667874831434697770786679100168839081858084908485707801748401660181866777746814767090016883908185808490848570781301807970018071018573700180776970848501887469707790018684706901718083018470688683700169668566018583667984787484847480791501537370017479748574667774847801035152340301688078708401718380780185737001848683796678708401807101518079015174877084851301346974015273667874830166796901457080796683690134697770786679130188738001818667777468779001697084688374677069018573700166777280837485737801747901182624241501347901708286748766777079850184908485707801886684016970877077808170690184706883708577900174790118262420016685014080877083797870798501368078788679746866857480798401417066698286668385708384010940364150101301857370013583748574847301847472796677840174798570777774727079687001667270796890130167900185737001387972777484730178668573707866857468746679013677747171808369013680687684150153736685018490848570780188668401697068776684847471747069017479011826262415\n",
      "\n",
      "Decoded raw number string: \n",
      "537370015152340109517487708485145273667874831434697770786679100168839081858084908485707801748401660181866777746814767090016883908185808490848570781301807970018071018573700180776970848501887469707790018684706901718083018470688683700169668566018583667984787484847480791501537370017479748574667774847801035152340301688078708401718380780185737001848683796678708401807101518079015174877084851301346974015273667874830166796901457080796683690134697770786679130188738001818667777468779001697084688374677069018573700166777280837485737801747901182624241501347901708286748766777079850184908485707801886684016970877077808170690184706883708577900174790118262420016685014080877083797870798501368078788679746866857480798401417066698286668385708384010940364150101301857370013583748574847301847472796677840174798570777774727079687001667270796890130167900185737001387972777484730178668573707866857468746679013677747171808369013680687684150153736685018490848570780188668401697068776684847471747069017479011826262415\n"
     ]
    }
   ],
   "source": [
    "#Step 4 - check the number strings are the same after encoding and decoding\n",
    "#message_number is without any RSA encoding\n",
    "#decoded_message_number is the recovered by reversing the RSA encoding applied to message_number\n",
    "\n",
    "assert(message_number==decoded_message_number[:len(message_number)])\n",
    "print(\"Raw number string:\", \"\\n\"+message_number)\n",
    "print()\n",
    "print(\"Decoded raw number string:\", \"\\n\"+decoded_message_number[:len(message_number)])\n",
    "\n",
    "#decoded_message_number may be longer than the raw message_number,\n",
    "#because 0s are added during encoding to avoid encoding "
   ]
  },
  {
   "cell_type": "code",
   "execution_count": null,
   "id": "1082fa38",
   "metadata": {},
   "outputs": [],
   "source": []
  }
 ],
 "metadata": {
  "kernelspec": {
   "display_name": "Python 3 (ipykernel)",
   "language": "python",
   "name": "python3"
  },
  "language_info": {
   "codemirror_mode": {
    "name": "ipython",
    "version": 3
   },
   "file_extension": ".py",
   "mimetype": "text/x-python",
   "name": "python",
   "nbconvert_exporter": "python",
   "pygments_lexer": "ipython3",
   "version": "3.9.7"
  }
 },
 "nbformat": 4,
 "nbformat_minor": 5
}
