{
 "cells": [
  {
   "cell_type": "code",
   "execution_count": 1,
   "id": "ca658205",
   "metadata": {},
   "outputs": [],
   "source": [
    "#input\n",
    "import os\n",
    "\n",
    "#copy the link of the book's coverpage\n",
    "coverpage_url = \"https://sls.hkpl.gov.hk/digital-collection/tc/contentcoverpage.html?catalogueId=70a3b1d16b084fa0806deece0eeec0ed&mainKeyword=&currentPosition=1&searchId=f85e1994980a459d96a17ce9911a329d\"\n",
    "\n",
    "#destination folder\n",
    "download_folder = os.getcwd()  #(or r\"C:\\downloads\\dse past papers\\math\" etc.)"
   ]
  },
  {
   "cell_type": "code",
   "execution_count": 2,
   "id": "53da27b1",
   "metadata": {},
   "outputs": [
    {
     "name": "stdout",
     "output_type": "stream",
     "text": [
      "'https://sls.hkpl.gov.hk/digital-collection/tc/contentcoverpage.html?catalogueId=70a3b1d16b084fa0806deece0eeec0ed&mainKeyword=&currentPosition=1&searchId=f85e1994980a459d96a17ce9911a329d' \n",
      "\n",
      "catalogue id:\t 70a3b1d16b084fa0806deece0eeec0ed\n",
      "resource name:\t 香港中學文憑考試試題專輯. 數學 必修部分2021\n",
      "\n",
      "pdf found\n",
      "file id: 1922965213401464833 (file name: HKDSE20210311_01.pdf)\n",
      "Enter 'Y' or 'y' to download all files\t\ty\n",
      "\n",
      "destination folder:\t C:\\Users\\lenovo\\python jupyter notebooks\\web scraping\\hkpl past papers\n",
      "\n",
      "downloading <HKDSE20210311_01.pdf>\n",
      "C:\\Users\\lenovo\\python jupyter notebooks\\web scraping\\hkpl past papers\\HKDSE20210311_01.pdf \n",
      "downloaded <HKDSE20210311_01.pdf>\n",
      "\n",
      "done\n"
     ]
    }
   ],
   "source": [
    "import re\n",
    "import requests\n",
    "\n",
    "#this is the catalogue id of the book\n",
    "id = re.search(\"(?<=catalogueId=)[^&]*\",coverpage_url)[0]\n",
    "print(f\"'{coverpage_url}'\",\"\\n\")\n",
    "print(\"catalogue id:\\t\",id)\n",
    "\n",
    "\n",
    "#this link looks up the file number of the pdf with catalogue id\n",
    "detail_url = \"https://sls.hkpl.gov.hk/api/drmapi/client-api/mmis/catalogueDetail/catalogueDetail\"\n",
    "headers = {\"catalogueId\":id}\n",
    "\n",
    "#send a request for resource details\n",
    "s = requests.session()\n",
    "r1 = s.get(detail_url,headers=headers)\n",
    "data = r1.json()[\"data\"]\n",
    "\n",
    "#print resource title\n",
    "print(\"resource name:\\t\", data[\"titleStr\"])\n",
    "\n",
    "#ids and file names of pdf files if any\n",
    "#there should be only one pdf, but play safe\n",
    "fileid = [(item[\"id\"], item[\"fileName\"]) for item in data[\"contentList\"][\"ortherContent\"] if \".pdf\" in item[\"fileName\"]]\n",
    "\n",
    "\n",
    "#this link downloads files with file id\n",
    "download_url = \"https://media.hkpl.gov.hk/api/drmapi/client-api/common/pdfCommon/load?id=\"\n",
    "headers2 = {\"Accept\": \"*/*\",\"Accept-Encoding\": \"gzip, deflate, br, zstd\",\n",
    "          \"Accept-Language\": \"zh-TW,zh;q=0.9,en-US;q=0.8,en;q=0.7,zh-CN;q=0.6\",\n",
    "         \"Connection\": \"keep-alive\",\"Host\": \"media.hkpl.gov.hk\",\n",
    "         \"Origin\": \"https://sls.hkpl.gov.hk\", \"Referer\": \"https://sls.hkpl.gov.hk/\"\n",
    "        }\n",
    "\n",
    "if len(fileid) > 0:\n",
    "    print(\"\\npdf found\")\n",
    "    for file in fileid:\n",
    "        print(f\"file id: {file[0]} (file name: {file[1]})\")\n",
    "        \n",
    "    response = input(\"Enter 'Y' or 'y' to download all files\\t\\t\")\n",
    "    \n",
    "    if response.strip() in [\"Y\",\"y\"]:\n",
    "        print()\n",
    "        print(\"destination folder:\\t\", download_folder)\n",
    "        for file in fileid:\n",
    "            print(\"\\ndownloading <\"+file[1]+\">\")\n",
    "            r2 = s.get(download_url+file[0],headers=headers2)\n",
    "            \n",
    "            # we use the default file name, change file[1] to some other file name if needed\n",
    "            with open(download_folder+\"\\\\\"+file[1],\"wb\") as filehandle:\n",
    "                filehandle.write(r2.content)\n",
    "            print(download_folder+\"\\\\\"+file[1],\"\\ndownloaded <\"+file[1]+\">\")\n",
    "        print(\"\\ndone\")\n",
    "else:\n",
    "    print(\"\\npdf not found\")\n",
    "    #pass"
   ]
  },
  {
   "cell_type": "code",
   "execution_count": null,
   "id": "7a3d1beb",
   "metadata": {},
   "outputs": [],
   "source": []
  }
 ],
 "metadata": {
  "kernelspec": {
   "display_name": "Python 3 (ipykernel)",
   "language": "python",
   "name": "python3"
  },
  "language_info": {
   "codemirror_mode": {
    "name": "ipython",
    "version": 3
   },
   "file_extension": ".py",
   "mimetype": "text/x-python",
   "name": "python",
   "nbconvert_exporter": "python",
   "pygments_lexer": "ipython3",
   "version": "3.9.7"
  }
 },
 "nbformat": 4,
 "nbformat_minor": 5
}
